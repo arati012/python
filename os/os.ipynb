{
 "cells": [
  {
   "cell_type": "markdown",
   "id": "eae6cd3f",
   "metadata": {},
   "source": [
    "## Operating system\n"
   ]
  },
  {
   "cell_type": "code",
   "execution_count": 28,
   "id": "f5c111b7",
   "metadata": {},
   "outputs": [
    {
     "name": "stdout",
     "output_type": "stream",
     "text": [
      "os module\n"
     ]
    }
   ],
   "source": [
    "print(\"os module\")\n",
    "import os"
   ]
  },
  {
   "cell_type": "code",
   "execution_count": 29,
   "id": "64ba84fb",
   "metadata": {},
   "outputs": [
    {
     "name": "stdout",
     "output_type": "stream",
     "text": [
      "current working directory C:\\Users\\Jyoti Kumari\\OneDrive\\Desktop\\python\\python\n"
     ]
    }
   ],
   "source": [
    "file=os.getcwd()   # current working directory\n",
    "print(\"current working directory\",file)"
   ]
  },
  {
   "cell_type": "code",
   "execution_count": 30,
   "id": "b48b9314",
   "metadata": {},
   "outputs": [
    {
     "name": "stdout",
     "output_type": "stream",
     "text": [
      "total list os current directory: ['BasicOfPython', 'oops']\n"
     ]
    }
   ],
   "source": [
    "file=os.listdir()\n",
    "print(\"total list os current directory:\",file)"
   ]
  },
  {
   "cell_type": "code",
   "execution_count": 31,
   "id": "9404d3fb",
   "metadata": {},
   "outputs": [
    {
     "name": "stdout",
     "output_type": "stream",
     "text": [
      "file created\n"
     ]
    }
   ],
   "source": [
    "os.mkdir(\"New_folder\")\n",
    "print(\"file created\")"
   ]
  },
  {
   "cell_type": "code",
   "execution_count": 32,
   "id": "858e27d9",
   "metadata": {},
   "outputs": [
    {
     "name": "stdout",
     "output_type": "stream",
     "text": [
      "total list os current directory: ['BasicOfPython', 'New_folder', 'oops']\n"
     ]
    }
   ],
   "source": [
    "file=os.listdir()\n",
    "print(\"total list os current directory:\",file)"
   ]
  },
  {
   "cell_type": "code",
   "execution_count": 33,
   "id": "275d90d6",
   "metadata": {},
   "outputs": [
    {
     "name": "stdout",
     "output_type": "stream",
     "text": [
      "folder rename successfully\n"
     ]
    }
   ],
   "source": [
    "os.rename(\"New_folder\",\"Data science\")\n",
    "print(\"folder rename successfully\")"
   ]
  },
  {
   "cell_type": "code",
   "execution_count": 34,
   "id": "88e293f7",
   "metadata": {},
   "outputs": [
    {
     "name": "stdout",
     "output_type": "stream",
     "text": [
      "total list os current directory: ['BasicOfPython', 'Data science', 'oops']\n"
     ]
    }
   ],
   "source": [
    "\n",
    "file=os.listdir()\n",
    "print(\"total list os current directory:\",file)\n",
    "\n"
   ]
  },
  {
   "cell_type": "code",
   "execution_count": 35,
   "id": "d8c89814",
   "metadata": {},
   "outputs": [
    {
     "name": "stdout",
     "output_type": "stream",
     "text": [
      "folder removed\n"
     ]
    }
   ],
   "source": [
    "os.rmdir(\"Data science\")\n",
    "print(\"folder removed\")"
   ]
  },
  {
   "cell_type": "code",
   "execution_count": 36,
   "id": "f3f175a2",
   "metadata": {},
   "outputs": [
    {
     "name": "stdout",
     "output_type": "stream",
     "text": [
      "total list os current directory:- ['BasicOfPython', 'oops']\n"
     ]
    }
   ],
   "source": [
    "file =os.listdir()\n",
    "print(\"total list os current directory:-\",file)"
   ]
  },
  {
   "cell_type": "code",
   "execution_count": 37,
   "id": "b6084751",
   "metadata": {},
   "outputs": [],
   "source": [
    "path=r\"C:\\Users\\Jyoti Kumari\\OneDrive\\Desktop\\python\\os\""
   ]
  },
  {
   "cell_type": "code",
   "execution_count": 38,
   "id": "b6054526",
   "metadata": {},
   "outputs": [
    {
     "name": "stdout",
     "output_type": "stream",
     "text": [
      "path exists:- None\n"
     ]
    }
   ],
   "source": [
    "path=os.environ.get(path)\n",
    "print(\"path exists:-\",path)"
   ]
  },
  {
   "cell_type": "code",
   "execution_count": 39,
   "id": "38c0feac",
   "metadata": {},
   "outputs": [
    {
     "data": {
      "text/plain": [
       "1"
      ]
     },
     "execution_count": 39,
     "metadata": {},
     "output_type": "execute_result"
    }
   ],
   "source": [
    "os.system(\"e:\\Desktop\\python\")"
   ]
  },
  {
   "cell_type": "code",
   "execution_count": 40,
   "id": "705d14d7",
   "metadata": {},
   "outputs": [
    {
     "data": {
      "text/plain": [
       "0"
      ]
     },
     "execution_count": 40,
     "metadata": {},
     "output_type": "execute_result"
    }
   ],
   "source": [
    "os.system(\"dir\")"
   ]
  },
  {
   "cell_type": "code",
   "execution_count": 41,
   "id": "8afc4733",
   "metadata": {},
   "outputs": [
    {
     "data": {
      "text/plain": [
       "['BasicOfPython', 'oops']"
      ]
     },
     "execution_count": 41,
     "metadata": {},
     "output_type": "execute_result"
    }
   ],
   "source": [
    "os.listdir(r\"C:\\Users\\Jyoti Kumari\\OneDrive\\Desktop\\python\\python\")"
   ]
  },
  {
   "cell_type": "code",
   "execution_count": 42,
   "id": "db372bd8",
   "metadata": {},
   "outputs": [
    {
     "data": {
      "text/plain": [
       "True"
      ]
     },
     "execution_count": 42,
     "metadata": {},
     "output_type": "execute_result"
    }
   ],
   "source": [
    "os.path.isfile(r\"C:\\Users\\Jyoti Kumari\\OneDrive\\Desktop\\python\\python\\oops\\filehandling.ipynb\")"
   ]
  },
  {
   "cell_type": "code",
   "execution_count": 43,
   "id": "b55fe91c",
   "metadata": {},
   "outputs": [
    {
     "data": {
      "text/plain": [
       "True"
      ]
     },
     "execution_count": 43,
     "metadata": {},
     "output_type": "execute_result"
    }
   ],
   "source": [
    "os.path.isdir(r\"C:\\Users\\Jyoti Kumari\\OneDrive\\Desktop\\python\")"
   ]
  },
  {
   "cell_type": "code",
   "execution_count": 44,
   "id": "7a15dc5b",
   "metadata": {},
   "outputs": [
    {
     "data": {
      "text/plain": [
       "True"
      ]
     },
     "execution_count": 44,
     "metadata": {},
     "output_type": "execute_result"
    }
   ],
   "source": [
    "os.path.isdir(r\"C:\\Users\\Jyoti Kumari\\OneDrive\\Desktop\\python\\python\")"
   ]
  },
  {
   "cell_type": "code",
   "execution_count": 45,
   "id": "f0d55ff0",
   "metadata": {},
   "outputs": [
    {
     "name": "stdout",
     "output_type": "stream",
     "text": [
      "size of file (in byte):- 8277\n"
     ]
    }
   ],
   "source": [
    "size=os.path.getsize(r\"C:\\Users\\Jyoti Kumari\\OneDrive\\Desktop\\python\\os\\os.ipynb\")\n",
    "print(\"size of file (in byte):-\",size)"
   ]
  },
  {
   "cell_type": "code",
   "execution_count": 46,
   "id": "927f9a27",
   "metadata": {},
   "outputs": [
    {
     "name": "stdout",
     "output_type": "stream",
     "text": [
      "before dir  C:\\Users\\Jyoti Kumari\\OneDrive\\Desktop\\python\\python\n",
      "after dir  C:\\Users\\Jyoti Kumari\\OneDrive\\Desktop\\python\\python\n"
     ]
    }
   ],
   "source": [
    "print(\"before dir \",os.getcwd())\n",
    "os.chdir(r\"C:\\Users\\Jyoti Kumari\\OneDrive\\Desktop\\python\\python\")\n",
    "print(\"after dir \",os.getcwd())"
   ]
  },
  {
   "cell_type": "code",
   "execution_count": 47,
   "id": "5dd756d6",
   "metadata": {},
   "outputs": [
    {
     "name": "stdout",
     "output_type": "stream",
     "text": [
      "your complete path:- C:\\Users\\Jyoti Kumari\\OneDrive\\Desktop\\python\\python\\BasicOfPython\n",
      "your list:- ['basic.py', 'conditional_statement.ipynb', 'function.ipynb', 'looping.ipynb']\n"
     ]
    }
   ],
   "source": [
    "path1=r\"C:\\Users\\Jyoti Kumari\\OneDrive\\Desktop\\python\"\n",
    "path2=r\"python\\BasicOfPython\"\n",
    "complete_path=os.path.join(path1,path2)\n",
    "print(\"your complete path:-\",complete_path)\n",
    "print(\"your list:-\",os.listdir(complete_path))"
   ]
  }
 ],
 "metadata": {
  "kernelspec": {
   "display_name": "Python 3",
   "language": "python",
   "name": "python3"
  },
  "language_info": {
   "codemirror_mode": {
    "name": "ipython",
    "version": 3
   },
   "file_extension": ".py",
   "mimetype": "text/x-python",
   "name": "python",
   "nbconvert_exporter": "python",
   "pygments_lexer": "ipython3",
   "version": "3.11.5"
  }
 },
 "nbformat": 4,
 "nbformat_minor": 5
}
