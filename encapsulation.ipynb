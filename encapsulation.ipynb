{
 "cells": [
  {
   "cell_type": "markdown",
   "id": "8f3a6dee",
   "metadata": {},
   "source": [
    "## Encapsulation"
   ]
  },
  {
   "cell_type": "code",
   "execution_count": null,
   "id": "001ec48c",
   "metadata": {},
   "outputs": [
    {
     "name": "stdout",
     "output_type": "stream",
     "text": [
      "public variable:- hari 9\n",
      "protected variable:- hari 9\n",
      "private variable: kapil\n"
     ]
    }
   ],
   "source": [
    "class Bank:\n",
    "    def __init__(self):\n",
    "\n",
    "        #private variable\n",
    "        self .__name=\"kapil\"\n",
    "        self .__age=20\n",
    "        self .__address=\"jaipur\"\n",
    "\n",
    "        #public variable\n",
    "        self.name=\"hari\"\n",
    "        self.age=18\n",
    "\n",
    "        # protected variable\n",
    "        self ._name=\"om\"\n",
    "        self .age=9\n",
    "class Customer(Bank):\n",
    "    pass\n",
    "c1=Customer()\n",
    "print(\"public variable:-\",c1.name,c1.age)\n",
    "print(\"protected variable:-\",c1.name,c1.age)\n",
    "print(\"private variable:\",c1._Bank__name) ## _classname_variable to access the private variable\n",
    "\n",
    "       \n"
   ]
  },
  {
   "cell_type": "code",
   "execution_count": null,
   "id": "15a6d36e",
   "metadata": {},
   "outputs": [
    {
     "name": "stdout",
     "output_type": "stream",
     "text": [
      "hello my name is arati\n"
     ]
    }
   ],
   "source": [
    "#abstraction - property/code hidden(ctrl+ put cursur on word)\n",
    "print(\"hello my name is arati\") "
   ]
  }
 ],
 "metadata": {
  "kernelspec": {
   "display_name": "Python 3",
   "language": "python",
   "name": "python3"
  },
  "language_info": {
   "codemirror_mode": {
    "name": "ipython",
    "version": 3
   },
   "file_extension": ".py",
   "mimetype": "text/x-python",
   "name": "python",
   "nbconvert_exporter": "python",
   "pygments_lexer": "ipython3",
   "version": "3.11.5"
  }
 },
 "nbformat": 4,
 "nbformat_minor": 5
}
