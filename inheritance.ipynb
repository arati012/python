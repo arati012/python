{
 "cells": [
  {
   "cell_type": "markdown",
   "id": "3c162959",
   "metadata": {},
   "source": [
    "## inheritance"
   ]
  },
  {
   "cell_type": "markdown",
   "id": "1e86f3af",
   "metadata": {},
   "source": [
    "## single inheritance"
   ]
  },
  {
   "cell_type": "code",
   "execution_count": null,
   "id": "297545f4",
   "metadata": {},
   "outputs": [],
   "source": [
    "class Parent:\n",
    "    father_name=\"raju\"\n",
    "    mother_name=\"sita\"\n",
    "class Child(Parent):\n",
    "    child_name=\"ritik\"\n",
    "    child_age=4\n",
    "child_obj=Child()\n"
   ]
  },
  {
   "cell_type": "code",
   "execution_count": 6,
   "id": "ab446df2",
   "metadata": {},
   "outputs": [
    {
     "data": {
      "text/plain": [
       "'raju'"
      ]
     },
     "execution_count": 6,
     "metadata": {},
     "output_type": "execute_result"
    }
   ],
   "source": [
    "child_obj.father_name"
   ]
  },
  {
   "cell_type": "code",
   "execution_count": 7,
   "id": "d8ca582b",
   "metadata": {},
   "outputs": [
    {
     "data": {
      "text/plain": [
       "'ritik'"
      ]
     },
     "execution_count": 7,
     "metadata": {},
     "output_type": "execute_result"
    }
   ],
   "source": [
    "child_obj.child_name"
   ]
  },
  {
   "cell_type": "markdown",
   "id": "de5a88e7",
   "metadata": {},
   "source": [
    "## multilevel\n"
   ]
  },
  {
   "cell_type": "code",
   "execution_count": null,
   "id": "80d8e7d3",
   "metadata": {},
   "outputs": [
    {
     "name": "stdout",
     "output_type": "stream",
     "text": [
      " father name:-hari\n",
      " mother name:-siya\n",
      "grand father name:-ram\n",
      "grand mother name:-siya\n",
      "child name:-om\n",
      "child age:-8\n"
     ]
    }
   ],
   "source": [
    "class Grand_father:\n",
    "    grand_father=\"ram\"\n",
    "    grand_mother=\"sita\"\n",
    "class Father(Grand_father):\n",
    "    father_name=\"hari\"\n",
    "    mother_name=\"siya\"\n",
    "class Child(Father):\n",
    "    child_name=\"om\"\n",
    "    child_age=8\n",
    "child_obj=Child()\n",
    "print(f\" father name:-{child_obj.father_name}\")\n",
    "print(f\" mother name:-{child_obj.mother_name}\")\n",
    "print(f\"grand father name:-{child_obj.grand_father}\")\n",
    "print(f\"grand mother name:-{child_obj.mother_name}\")\n",
    "print(f\"child name:-{child_obj.child_name}\")\n",
    "print(f\"child age:-{child_obj.child_age}\")\n",
    "\n",
    "\n",
    "\n"
   ]
  },
  {
   "cell_type": "code",
   "execution_count": null,
   "id": "4eccca25",
   "metadata": {},
   "outputs": [
    {
     "name": "stdout",
     "output_type": "stream",
     "text": [
      " father name:-hari\n",
      " mother name:-siya\n",
      "grand father name:-ram\n"
     ]
    }
   ],
   "source": [
    "#multiple_inheritance\n",
    "class Grand_father:\n",
    "    grand_father=\"ram\"\n",
    "    grand_mother=\"sita\"\n",
    "class Father(Grand_father):\n",
    "    father_name=\"hari\"\n",
    "    mother_name=\"siya\"\n",
    "class Child(Father,Grand_father):\n",
    "    child_name=\"om\"\n",
    "    child_age=8\n",
    "child_obj=Child()\n",
    "print(f\" father name:-{child_obj.father_name}\")\n",
    "print(f\" mother name:-{child_obj.mother_name}\")\n",
    "print(f\"grand father name:-{child_obj.grand_father}\")\n"
   ]
  }
 ],
 "metadata": {
  "kernelspec": {
   "display_name": "Python 3",
   "language": "python",
   "name": "python3"
  },
  "language_info": {
   "codemirror_mode": {
    "name": "ipython",
    "version": 3
   },
   "file_extension": ".py",
   "mimetype": "text/x-python",
   "name": "python",
   "nbconvert_exporter": "python",
   "pygments_lexer": "ipython3",
   "version": "3.11.5"
  }
 },
 "nbformat": 4,
 "nbformat_minor": 5
}
