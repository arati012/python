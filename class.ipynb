{
 "cells": [
  {
   "cell_type": "markdown",
   "id": "037f43c2",
   "metadata": {},
   "source": [
    "## CLASS"
   ]
  },
  {
   "cell_type": "code",
   "execution_count": 1,
   "id": "b3770eba",
   "metadata": {},
   "outputs": [],
   "source": [
    "class Person:\n",
    "    name=\"arati\"\n",
    "    age=20"
   ]
  },
  {
   "cell_type": "code",
   "execution_count": 2,
   "id": "aef005cd",
   "metadata": {},
   "outputs": [],
   "source": [
    "obj=Person()\n"
   ]
  },
  {
   "cell_type": "code",
   "execution_count": 3,
   "id": "e56a9273",
   "metadata": {},
   "outputs": [
    {
     "name": "stdout",
     "output_type": "stream",
     "text": [
      "arati\n"
     ]
    }
   ],
   "source": [
    "print(obj.name)"
   ]
  },
  {
   "cell_type": "code",
   "execution_count": 4,
   "id": "325b3cba",
   "metadata": {},
   "outputs": [
    {
     "name": "stdout",
     "output_type": "stream",
     "text": [
      "20\n"
     ]
    }
   ],
   "source": [
    "print(obj.age)"
   ]
  },
  {
   "cell_type": "code",
   "execution_count": null,
   "id": "cfa20764",
   "metadata": {},
   "outputs": [],
   "source": []
  }
 ],
 "metadata": {
  "kernelspec": {
   "display_name": "Python 3",
   "language": "python",
   "name": "python3"
  },
  "language_info": {
   "codemirror_mode": {
    "name": "ipython",
    "version": 3
   },
   "file_extension": ".py",
   "mimetype": "text/x-python",
   "name": "python",
   "nbconvert_exporter": "python",
   "pygments_lexer": "ipython3",
   "version": "3.11.5"
  }
 },
 "nbformat": 4,
 "nbformat_minor": 5
}
