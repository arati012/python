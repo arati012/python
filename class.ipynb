{
 "cells": [
  {
   "cell_type": "markdown",
   "id": "037f43c2",
   "metadata": {},
   "source": [
    "## CLASS"
   ]
  },
  {
   "cell_type": "code",
   "execution_count": 1,
   "id": "b3770eba",
   "metadata": {},
   "outputs": [],
   "source": [
    "class Person:\n",
    "    name=\"arati\"\n",
    "    age=20"
   ]
  },
  {
   "cell_type": "code",
   "execution_count": 2,
   "id": "aef005cd",
   "metadata": {},
   "outputs": [],
   "source": [
    "obj=Person()\n"
   ]
  },
  {
   "cell_type": "code",
   "execution_count": 3,
   "id": "e56a9273",
   "metadata": {},
   "outputs": [
    {
     "name": "stdout",
     "output_type": "stream",
     "text": [
      "arati\n"
     ]
    }
   ],
   "source": [
    "print(obj.name)"
   ]
  },
  {
   "cell_type": "code",
   "execution_count": 4,
   "id": "325b3cba",
   "metadata": {},
   "outputs": [
    {
     "name": "stdout",
     "output_type": "stream",
     "text": [
      "20\n"
     ]
    }
   ],
   "source": [
    "print(obj.age)"
   ]
  },
  {
   "cell_type": "markdown",
   "id": "a0cb7a0d",
   "metadata": {},
   "source": [
    "## OOPs"
   ]
  },
  {
   "cell_type": "markdown",
   "id": "9b00cc54",
   "metadata": {},
   "source": [
    "### class"
   ]
  },
  {
   "cell_type": "code",
   "execution_count": null,
   "id": "5627d108",
   "metadata": {},
   "outputs": [],
   "source": [
    "class Student:  #Student is a class and class and pass is a keyword\n",
    "    pass"
   ]
  },
  {
   "cell_type": "code",
   "execution_count": null,
   "id": "c7f8f9ff",
   "metadata": {},
   "outputs": [],
   "source": [
    "class Bank:\n",
    "    name=\"ritik\"\n",
    "    age=\"20\"\n",
    "    address =\"delhi\"\n",
    "    pincode=734009\n",
    "    mobile=9647994822\n",
    "    balance=10000\n",
    "bank_obj=Bank()  #object"
   ]
  },
  {
   "cell_type": "code",
   "execution_count": 7,
   "id": "5a6d589d",
   "metadata": {},
   "outputs": [
    {
     "name": "stdout",
     "output_type": "stream",
     "text": [
      "bank name:- ritik\n",
      "bank age:- 20\n",
      "bank address:- delhi\n",
      "bank pincode:- 734009\n",
      "bank mobile:- 9647994822\n",
      "bank balance:- 10000\n"
     ]
    }
   ],
   "source": [
    "print(\"bank name:-\",bank_obj.name)\n",
    "print(\"bank age:-\",bank_obj.age)\n",
    "print(\"bank address:-\",bank_obj.address)\n",
    "print(\"bank pincode:-\",bank_obj.pincode)\n",
    "print(\"bank mobile:-\",bank_obj.mobile)\n",
    "print(\"bank balance:-\",bank_obj.balance)"
   ]
  },
  {
   "cell_type": "code",
   "execution_count": 18,
   "id": "0879606e",
   "metadata": {},
   "outputs": [],
   "source": [
    "class Bank:               #function-outside the class\n",
    "    name=\"ritik\"          #method-inside the class\n",
    "    age=\"20\"\n",
    "    address =\"delhi\"\n",
    "    pincode=734009\n",
    "    mobile=9647994822\n",
    "    balance=10000\n",
    "    def show_info(self):\n",
    "        print(self.name)\n",
    "        print(self.age)\n",
    "bank_obj= Bank()\n",
    "  "
   ]
  },
  {
   "cell_type": "code",
   "execution_count": null,
   "id": "5b963b65",
   "metadata": {},
   "outputs": [
    {
     "name": "stdout",
     "output_type": "stream",
     "text": [
      "ritik\n",
      "20\n"
     ]
    }
   ],
   "source": [
    "bank_obj.show_info()"
   ]
  },
  {
   "cell_type": "markdown",
   "id": "ec53be49",
   "metadata": {},
   "source": [
    "## constructor"
   ]
  },
  {
   "cell_type": "code",
   "execution_count": 22,
   "id": "d9312945",
   "metadata": {},
   "outputs": [],
   "source": [
    "class Bank:\n",
    "    mera_name=\"ritik\"    #class variable\n",
    "    def __init__(self):   #create constructor\n",
    "        self.name=\"ritik\"  #instane variable\n",
    "        self.age=20\n",
    "bank_obj=Bank()\n"
   ]
  },
  {
   "cell_type": "code",
   "execution_count": 24,
   "id": "6f733cfe",
   "metadata": {},
   "outputs": [
    {
     "name": "stdout",
     "output_type": "stream",
     "text": [
      "ritik\n",
      "20\n"
     ]
    }
   ],
   "source": [
    "print(bank_obj.name)\n",
    "print(bank_obj.age)"
   ]
  },
  {
   "cell_type": "code",
   "execution_count": 42,
   "id": "255cb950",
   "metadata": {},
   "outputs": [],
   "source": [
    "class Bank:\n",
    "    def __init__(self,name,address,pincode,balance):\n",
    "        self.name=name\n",
    "        self.address=address\n",
    "        self.pincode=pincode\n",
    "        self.balance=balance\n",
    "obj_bank=Bank(name=\"ritik\",address=\"delhi\",pincode=23445,balance=10000)\n",
    "\n"
   ]
  },
  {
   "cell_type": "code",
   "execution_count": 43,
   "id": "45cb4ede",
   "metadata": {},
   "outputs": [
    {
     "data": {
      "text/plain": [
       "'ritik'"
      ]
     },
     "execution_count": 43,
     "metadata": {},
     "output_type": "execute_result"
    }
   ],
   "source": [
    "obj_bank.name"
   ]
  },
  {
   "cell_type": "code",
   "execution_count": 44,
   "id": "b0ecc737",
   "metadata": {},
   "outputs": [
    {
     "data": {
      "text/plain": [
       "'delhi'"
      ]
     },
     "execution_count": 44,
     "metadata": {},
     "output_type": "execute_result"
    }
   ],
   "source": [
    "obj_bank.address"
   ]
  },
  {
   "cell_type": "code",
   "execution_count": 45,
   "id": "e10942ea",
   "metadata": {},
   "outputs": [
    {
     "data": {
      "text/plain": [
       "(23445, 10000)"
      ]
     },
     "execution_count": 45,
     "metadata": {},
     "output_type": "execute_result"
    }
   ],
   "source": [
    "obj_bank.pincode,obj_bank.balance"
   ]
  },
  {
   "cell_type": "code",
   "execution_count": 47,
   "id": "6e1102b9",
   "metadata": {},
   "outputs": [],
   "source": [
    "kapil_bank=Bank(name=\"kapil\",address=\"delhi\",pincode=235,balance=20000)\n"
   ]
  },
  {
   "cell_type": "code",
   "execution_count": 48,
   "id": "b973c3c2",
   "metadata": {},
   "outputs": [
    {
     "data": {
      "text/plain": [
       "'kapil'"
      ]
     },
     "execution_count": 48,
     "metadata": {},
     "output_type": "execute_result"
    }
   ],
   "source": [
    "kapil_bank.name"
   ]
  }
 ],
 "metadata": {
  "kernelspec": {
   "display_name": "Python 3",
   "language": "python",
   "name": "python3"
  },
  "language_info": {
   "codemirror_mode": {
    "name": "ipython",
    "version": 3
   },
   "file_extension": ".py",
   "mimetype": "text/x-python",
   "name": "python",
   "nbconvert_exporter": "python",
   "pygments_lexer": "ipython3",
   "version": "3.11.5"
  }
 },
 "nbformat": 4,
 "nbformat_minor": 5
}
