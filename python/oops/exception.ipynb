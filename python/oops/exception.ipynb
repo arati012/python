{
 "cells": [
  {
   "cell_type": "markdown",
   "id": "997426d7",
   "metadata": {},
   "source": [
    "## Exception handling\n"
   ]
  },
  {
   "cell_type": "code",
   "execution_count": 1,
   "id": "c102dbe7",
   "metadata": {},
   "outputs": [],
   "source": [
    "try:\n",
    "    pass # main code\n",
    "except:\n",
    "    pass # exception code and handling\n",
    "else:\n",
    "    pass # executed when there is no error\n",
    "finally:\n",
    "    pass # always executed"
   ]
  },
  {
   "cell_type": "code",
   "execution_count": 2,
   "id": "34d8545d",
   "metadata": {},
   "outputs": [
    {
     "name": "stdout",
     "output_type": "stream",
     "text": [
      "2.0\n"
     ]
    }
   ],
   "source": [
    "try:\n",
    "    a=10\n",
    "    b=5\n",
    "    print(a/b)\n",
    "except:\n",
    "    print(\"exception\")\n"
   ]
  },
  {
   "cell_type": "code",
   "execution_count": 7,
   "id": "304bf542",
   "metadata": {},
   "outputs": [
    {
     "name": "stdout",
     "output_type": "stream",
     "text": [
      "division by zero\n",
      "aapne dali h string\n"
     ]
    }
   ],
   "source": [
    "try:\n",
    "    num1=int(input(\"enter a number:\"))\n",
    "    num2=int(input(\"enter a number:\"))\n",
    "    print(num1/num2)\n",
    "except Exception as e:\n",
    "    print(e)\n",
    "    print(\"aapne dali h string\")"
   ]
  },
  {
   "cell_type": "code",
   "execution_count": 9,
   "id": "32bde77e",
   "metadata": {},
   "outputs": [],
   "source": [
    "#25/0"
   ]
  },
  {
   "cell_type": "code",
   "execution_count": 10,
   "id": "8b68187e",
   "metadata": {},
   "outputs": [
    {
     "name": "stdout",
     "output_type": "stream",
     "text": [
      "3.0\n",
      "it will run when its try block will run\n",
      "it will run always\n"
     ]
    }
   ],
   "source": [
    "try:\n",
    "    num1=int(input(\"enter a number:\"))\n",
    "    num2=int(input(\"enter a number:\"))\n",
    "    print(num1/num2)\n",
    "except Exception as e:\n",
    "    print(e)\n",
    "    print(\"aapne dali h string\")\n",
    "else:\n",
    "    print(\"it will run when its try block will run\")\n",
    "finally:\n",
    "    print(\"it will run always\")"
   ]
  },
  {
   "cell_type": "code",
   "execution_count": 16,
   "id": "a6701e17",
   "metadata": {},
   "outputs": [
    {
     "name": "stdout",
     "output_type": "stream",
     "text": [
      "No active exception to reraise\n",
      "not valid\n",
      "it will run always\n"
     ]
    }
   ],
   "source": [
    "# runtime error\n",
    "try:\n",
    "    x=-6\n",
    "    if x<0:\n",
    "       raise \n",
    "except RuntimeError as e:\n",
    "    print(e)\n",
    "    print(\"not valid\")\n",
    "else:\n",
    "    print(\"it will run when its try block will run\")\n",
    "finally:\n",
    "    print(\"it will run always\")\n"
   ]
  },
  {
   "cell_type": "code",
   "execution_count": 17,
   "id": "e4c6750f",
   "metadata": {},
   "outputs": [
    {
     "ename": "NameError",
     "evalue": "name 'valueError' is not defined",
     "output_type": "error",
     "traceback": [
      "\u001b[31m---------------------------------------------------------------------------\u001b[39m",
      "\u001b[31mNameError\u001b[39m                                 Traceback (most recent call last)",
      "\u001b[36mCell\u001b[39m\u001b[36m \u001b[39m\u001b[32mIn[17]\u001b[39m\u001b[32m, line 4\u001b[39m\n\u001b[32m      2\u001b[39m x=-\u001b[32m6\u001b[39m\n\u001b[32m      3\u001b[39m \u001b[38;5;28;01mif\u001b[39;00m x<\u001b[32m0\u001b[39m:\n\u001b[32m----> \u001b[39m\u001b[32m4\u001b[39m     \u001b[38;5;28;01mraise\u001b[39;00m \u001b[43mvalueError\u001b[49m(\u001b[33m\"\u001b[39m\u001b[33mnot valid\u001b[39m\u001b[33m\"\u001b[39m)\n",
      "\u001b[31mNameError\u001b[39m: name 'valueError' is not defined"
     ]
    }
   ],
   "source": [
    "# value error\n",
    "x=-6\n",
    "if x<0:\n",
    "    raise valueError(\"not valid\")"
   ]
  },
  {
   "cell_type": "code",
   "execution_count": null,
   "id": "d56951b0",
   "metadata": {},
   "outputs": [
    {
     "ename": "TypeError",
     "evalue": "not valid",
     "output_type": "error",
     "traceback": [
      "\u001b[31m---------------------------------------------------------------------------\u001b[39m",
      "\u001b[31mTypeError\u001b[39m                                 Traceback (most recent call last)",
      "\u001b[36mCell\u001b[39m\u001b[36m \u001b[39m\u001b[32mIn[13]\u001b[39m\u001b[32m, line 4\u001b[39m\n\u001b[32m      2\u001b[39m x=-\u001b[32m6\u001b[39m\n\u001b[32m      3\u001b[39m \u001b[38;5;28;01mif\u001b[39;00m x<\u001b[32m0\u001b[39m:\n\u001b[32m----> \u001b[39m\u001b[32m4\u001b[39m     \u001b[38;5;28;01mraise\u001b[39;00m \u001b[38;5;167;01mTypeError\u001b[39;00m(\u001b[33m\"\u001b[39m\u001b[33mnot valid\u001b[39m\u001b[33m\"\u001b[39m)\n",
      "\u001b[31mTypeError\u001b[39m: not valid"
     ]
    }
   ],
   "source": [
    "# type error\n",
    "x=-6\n",
    "if x<0:\n",
    "    raise TypeError(\"not valid\")"
   ]
  },
  {
   "cell_type": "code",
   "execution_count": null,
   "id": "e74368b0",
   "metadata": {},
   "outputs": [
    {
     "name": "stdout",
     "output_type": "stream",
     "text": [
      "not valid\n"
     ]
    }
   ],
   "source": [
    "# value error\n",
    "try:\n",
    "    x=-6\n",
    "    if x<0:\n",
    "         raise ValueError(\"not valid\")\n",
    "except ValueError as e:\n",
    "     print(e)\n",
    "     "
   ]
  },
  {
   "cell_type": "code",
   "execution_count": null,
   "id": "883d578d",
   "metadata": {},
   "outputs": [],
   "source": []
  }
 ],
 "metadata": {
  "kernelspec": {
   "display_name": "Python 3",
   "language": "python",
   "name": "python3"
  },
  "language_info": {
   "codemirror_mode": {
    "name": "ipython",
    "version": 3
   },
   "file_extension": ".py",
   "mimetype": "text/x-python",
   "name": "python",
   "nbconvert_exporter": "python",
   "pygments_lexer": "ipython3",
   "version": "3.11.5"
  }
 },
 "nbformat": 4,
 "nbformat_minor": 5
}
