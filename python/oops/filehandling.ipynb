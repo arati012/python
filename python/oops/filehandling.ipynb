{
 "cells": [
  {
   "cell_type": "markdown",
   "id": "4b02ff77",
   "metadata": {},
   "source": [
    "#### File Handling \n",
    "\n",
    "| Mode  | Meaning            | Description                                                                          |\n",
    "| ----- | ------------------ | ------------------------------------------------------------------------------------ |\n",
    "| 'r' | Read               | Opens a file for reading. File must exist.                                           |\n",
    "| 'w' | Write              | Opens a file for writing. Creates a new file or *overwrites* if it exists.         |\n",
    "| 'a' | Append             | Opens a file for appending. Creates if not exists; *adds to the end*.              |\n",
    "| 'x' | Exclusive creation | Creates a file, **fails if file                         |\n",
    "\n"
   ]
  },
  {
   "cell_type": "code",
   "execution_count": 7,
   "id": "527468ab",
   "metadata": {},
   "outputs": [
    {
     "data": {
      "text/plain": [
       "'hello'"
      ]
     },
     "execution_count": 7,
     "metadata": {},
     "output_type": "execute_result"
    }
   ],
   "source": [
    "file=open(\"poet.txt\",\"r\")\n",
    "file.read()"
   ]
  },
  {
   "cell_type": "code",
   "execution_count": 8,
   "id": "47d6ca78",
   "metadata": {},
   "outputs": [],
   "source": [
    "file=open(\"poet.txt\",'w')\n",
    "file.write(\"how are you\")\n",
    "file.close()"
   ]
  },
  {
   "cell_type": "code",
   "execution_count": 10,
   "id": "b12060a3",
   "metadata": {},
   "outputs": [],
   "source": [
    "file=open(\"poet.txt\",\"r\")\n",
    "file.read()\n",
    "file.close()"
   ]
  },
  {
   "cell_type": "code",
   "execution_count": 12,
   "id": "9052b9df",
   "metadata": {},
   "outputs": [],
   "source": [
    "file=open(\"poet2.txt\",'w')\n",
    "file.write(\"i'm arati\")\n",
    "file.close()"
   ]
  },
  {
   "cell_type": "code",
   "execution_count": 15,
   "id": "b5b8f2a7",
   "metadata": {},
   "outputs": [],
   "source": [
    "file=open(\"poet2.txt\",\"r\")\n",
    "file.read()\n",
    "file.close()\n"
   ]
  },
  {
   "cell_type": "code",
   "execution_count": 16,
   "id": "760b3151",
   "metadata": {},
   "outputs": [
    {
     "name": "stdout",
     "output_type": "stream",
     "text": [
      "i'm arati\n"
     ]
    }
   ],
   "source": [
    "with open (\"poet2.txt\") as file:\n",
    "    print(file.read())"
   ]
  },
  {
   "cell_type": "code",
   "execution_count": 20,
   "id": "8fd19500",
   "metadata": {},
   "outputs": [],
   "source": [
    "file=open(\"poet2.txt\",\"a\")\n",
    "file.write(\" aap kaise ho\")\n",
    "file.close()"
   ]
  },
  {
   "cell_type": "code",
   "execution_count": 21,
   "id": "4f7ff145",
   "metadata": {},
   "outputs": [
    {
     "data": {
      "text/plain": [
       "\"i'm aratiaap kaise ho aap kaise ho\""
      ]
     },
     "execution_count": 21,
     "metadata": {},
     "output_type": "execute_result"
    }
   ],
   "source": [
    "open(\"poet2.txt\",\"r\").read()"
   ]
  },
  {
   "cell_type": "code",
   "execution_count": 22,
   "id": "4ab24fe6",
   "metadata": {},
   "outputs": [],
   "source": [
    "file =open(\"poet4.txt\", \"a\")\n",
    "file.write(\"aap kese ho and data sciecne kesa hai \")\n",
    "file.close()"
   ]
  },
  {
   "cell_type": "code",
   "execution_count": 23,
   "id": "81bb5b58",
   "metadata": {},
   "outputs": [],
   "source": [
    "file =open(\"kapil.txt\", \"x\") ### agr file hai to ye erroe de dega and agr file nhi hai to ye file create krega\n",
    "file.close()"
   ]
  },
  {
   "cell_type": "code",
   "execution_count": 24,
   "id": "dd3fbe0e",
   "metadata": {},
   "outputs": [
    {
     "data": {
      "text/plain": [
       "''"
      ]
     },
     "execution_count": 24,
     "metadata": {},
     "output_type": "execute_result"
    }
   ],
   "source": [
    "open(\"kapil.txt\", \"r\").read()"
   ]
  },
  {
   "cell_type": "code",
   "execution_count": 25,
   "id": "9081ed6b",
   "metadata": {},
   "outputs": [
    {
     "data": {
      "text/plain": [
       "38"
      ]
     },
     "execution_count": 25,
     "metadata": {},
     "output_type": "execute_result"
    }
   ],
   "source": [
    "open(\"kapil.txt\", \"w\").write(\"aap kese ho and data sciecne kesa hai \")\n"
   ]
  },
  {
   "cell_type": "code",
   "execution_count": 26,
   "id": "a90718e4",
   "metadata": {},
   "outputs": [
    {
     "data": {
      "text/plain": [
       "'aap kese ho and data sciecne kesa hai '"
      ]
     },
     "execution_count": 26,
     "metadata": {},
     "output_type": "execute_result"
    }
   ],
   "source": [
    "open(\"kapil.txt\", \"r\").read()\n"
   ]
  },
  {
   "cell_type": "code",
   "execution_count": null,
   "id": "270a7b4d",
   "metadata": {},
   "outputs": [],
   "source": []
  }
 ],
 "metadata": {
  "kernelspec": {
   "display_name": "Python 3",
   "language": "python",
   "name": "python3"
  },
  "language_info": {
   "codemirror_mode": {
    "name": "ipython",
    "version": 3
   },
   "file_extension": ".py",
   "mimetype": "text/x-python",
   "name": "python",
   "nbconvert_exporter": "python",
   "pygments_lexer": "ipython3",
   "version": "3.11.5"
  }
 },
 "nbformat": 4,
 "nbformat_minor": 5
}
