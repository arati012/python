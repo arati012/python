{
 "cells": [
  {
   "cell_type": "markdown",
   "id": "611f6dfb",
   "metadata": {},
   "source": [
    "## function in python"
   ]
  },
  {
   "cell_type": "markdown",
   "id": "62700ec4",
   "metadata": {},
   "source": [
    "#### user_define function in python"
   ]
  },
  {
   "cell_type": "code",
   "execution_count": null,
   "id": "3dac0dc7",
   "metadata": {},
   "outputs": [],
   "source": [
    "# def function_name():\n",
    "     #apna code likhna\n",
    "     #pass\n",
    "#function_name()"
   ]
  },
  {
   "cell_type": "code",
   "execution_count": 1,
   "id": "5467fe12",
   "metadata": {},
   "outputs": [],
   "source": [
    "def temp():\n",
    "    print(\"hello\")"
   ]
  },
  {
   "cell_type": "code",
   "execution_count": 2,
   "id": "0dd4089d",
   "metadata": {},
   "outputs": [
    {
     "name": "stdout",
     "output_type": "stream",
     "text": [
      "hello\n"
     ]
    }
   ],
   "source": [
    "temp()"
   ]
  },
  {
   "cell_type": "code",
   "execution_count": 3,
   "id": "c01ad0f6",
   "metadata": {},
   "outputs": [],
   "source": [
    "def demo(name):\n",
    "    print(f\"hello i'm {name}\")"
   ]
  },
  {
   "cell_type": "code",
   "execution_count": 4,
   "id": "42884fbb",
   "metadata": {},
   "outputs": [
    {
     "name": "stdout",
     "output_type": "stream",
     "text": [
      "hello i'm arati\n"
     ]
    }
   ],
   "source": [
    "demo(name=\"arati\")"
   ]
  },
  {
   "cell_type": "code",
   "execution_count": 5,
   "id": "26ca26a8",
   "metadata": {},
   "outputs": [
    {
     "name": "stdout",
     "output_type": "stream",
     "text": [
      "hello i'm ravi\n"
     ]
    }
   ],
   "source": [
    "demo(\"ravi\")"
   ]
  },
  {
   "cell_type": "code",
   "execution_count": 6,
   "id": "7d1f21c0",
   "metadata": {},
   "outputs": [],
   "source": [
    "def mult_table(num1,num2):\n",
    "    print(num1*num2)"
   ]
  },
  {
   "cell_type": "code",
   "execution_count": 7,
   "id": "14149597",
   "metadata": {},
   "outputs": [
    {
     "name": "stdout",
     "output_type": "stream",
     "text": [
      "6\n"
     ]
    }
   ],
   "source": [
    "mult_table(2,3)"
   ]
  },
  {
   "cell_type": "code",
   "execution_count": 8,
   "id": "b908b5b3",
   "metadata": {},
   "outputs": [],
   "source": [
    "def add(a,b):\n",
    "    return a+b"
   ]
  },
  {
   "cell_type": "code",
   "execution_count": 9,
   "id": "95030c4d",
   "metadata": {},
   "outputs": [],
   "source": [
    "result =add(a=2,b=3)"
   ]
  },
  {
   "cell_type": "code",
   "execution_count": 10,
   "id": "f30b0fbe",
   "metadata": {},
   "outputs": [
    {
     "name": "stdout",
     "output_type": "stream",
     "text": [
      "5\n"
     ]
    }
   ],
   "source": [
    "print(result)"
   ]
  },
  {
   "cell_type": "code",
   "execution_count": 11,
   "id": "fa8dc913",
   "metadata": {},
   "outputs": [
    {
     "name": "stdout",
     "output_type": "stream",
     "text": [
      "hello guest\n"
     ]
    }
   ],
   "source": [
    "def greet(name=\"guest\"):\n",
    "    print(f\"hello {name}\")\n",
    "greet()"
   ]
  },
  {
   "cell_type": "code",
   "execution_count": 13,
   "id": "e53fd5dd",
   "metadata": {},
   "outputs": [
    {
     "name": "stdout",
     "output_type": "stream",
     "text": [
      "hello ravi\n"
     ]
    }
   ],
   "source": [
    "greet(name=\"ravi\")"
   ]
  },
  {
   "cell_type": "markdown",
   "id": "9f800a56",
   "metadata": {},
   "source": [
    "## lambda function"
   ]
  },
  {
   "cell_type": "code",
   "execution_count": 14,
   "id": "b54627c4",
   "metadata": {},
   "outputs": [
    {
     "name": "stdout",
     "output_type": "stream",
     "text": [
      "5\n"
     ]
    }
   ],
   "source": [
    "# lambda args: expression\n",
    "add = lambda a,b :a+b\n",
    "print(add(2,3))"
   ]
  },
  {
   "cell_type": "code",
   "execution_count": 15,
   "id": "9a5680fa",
   "metadata": {},
   "outputs": [
    {
     "name": "stdout",
     "output_type": "stream",
     "text": [
      "5\n"
     ]
    }
   ],
   "source": [
    "print(add(2,3))"
   ]
  },
  {
   "cell_type": "code",
   "execution_count": 16,
   "id": "3363b473",
   "metadata": {},
   "outputs": [
    {
     "name": "stdout",
     "output_type": "stream",
     "text": [
      "4\n"
     ]
    }
   ],
   "source": [
    "square = lambda a:a*a\n",
    "print(square(2))"
   ]
  },
  {
   "cell_type": "code",
   "execution_count": 20,
   "id": "3b608ec3",
   "metadata": {},
   "outputs": [
    {
     "name": "stdout",
     "output_type": "stream",
     "text": [
      "9\n",
      "16\n",
      "25\n",
      "36\n",
      "49\n",
      "64\n"
     ]
    }
   ],
   "source": [
    "print(square(3))\n",
    "print(square(4))\n",
    "print(square(5))\n",
    "print(square(6))\n",
    "print(square(7))\n",
    "print(square(8))\n"
   ]
  }
 ],
 "metadata": {
  "kernelspec": {
   "display_name": "Python 3",
   "language": "python",
   "name": "python3"
  },
  "language_info": {
   "codemirror_mode": {
    "name": "ipython",
    "version": 3
   },
   "file_extension": ".py",
   "mimetype": "text/x-python",
   "name": "python",
   "nbconvert_exporter": "python",
   "pygments_lexer": "ipython3",
   "version": "3.11.5"
  }
 },
 "nbformat": 4,
 "nbformat_minor": 5
}
