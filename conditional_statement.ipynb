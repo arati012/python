{
 "cells": [
  {
   "cell_type": "code",
   "execution_count": 5,
   "id": "ab339c9e",
   "metadata": {},
   "outputs": [
    {
     "name": "stdout",
     "output_type": "stream",
     "text": [
      "x is greater than 2\n"
     ]
    }
   ],
   "source": [
    "x = 11 \n",
    "if x>2:\n",
    "    print(\"x is greater than 2\")\n"
   ]
  },
  {
   "cell_type": "code",
   "execution_count": 7,
   "id": "cf5de311",
   "metadata": {},
   "outputs": [
    {
     "name": "stdout",
     "output_type": "stream",
     "text": [
      "x is greater than 6\n"
     ]
    }
   ],
   "source": [
    "x = 11 \n",
    "if x>6:\n",
    "    print(\"x is greater than 6\")\n",
    "else:\n",
    "    print(\"x is less than 6\")"
   ]
  },
  {
   "cell_type": "code",
   "execution_count": null,
   "id": "9a7f58eb",
   "metadata": {},
   "outputs": [
    {
     "name": "stdout",
     "output_type": "stream",
     "text": [
      "x is greater than 50\n"
     ]
    }
   ],
   "source": [
    "x = 70\n",
    "if x >100:\n",
    "    print(\"x is greater than 100\")\n",
    "elif x>50:\n",
    "    print(\"x is greater than 50\")\n",
    "else:\n",
    "    print(\"x is less than 50\") \n"
   ]
  },
  {
   "cell_type": "code",
   "execution_count": 20,
   "id": "623c06d1",
   "metadata": {},
   "outputs": [
    {
     "name": "stdout",
     "output_type": "stream",
     "text": [
      "x is between 10 to 20\n"
     ]
    }
   ],
   "source": [
    "x = 15 \n",
    "if x>10:\n",
    "    if x<20:\n",
    "        print(\"x is between 10 to 20\")\n"
   ]
  },
  {
   "cell_type": "code",
   "execution_count": 21,
   "id": "c704e73a",
   "metadata": {},
   "outputs": [],
   "source": [
    "x = 15\n",
    "if x>0:\n",
    "    pass "
   ]
  },
  {
   "cell_type": "code",
   "execution_count": 22,
   "id": "cbf7eb20",
   "metadata": {},
   "outputs": [
    {
     "name": "stdout",
     "output_type": "stream",
     "text": [
      "number is even\n"
     ]
    }
   ],
   "source": [
    "number = 6\n",
    "if number%2==0 :\n",
    "    print(\"number is even\")\n",
    "else:\n",
    "    print(\"number is odd\")"
   ]
  }
 ],
 "metadata": {
  "kernelspec": {
   "display_name": "Python 3",
   "language": "python",
   "name": "python3"
  },
  "language_info": {
   "codemirror_mode": {
    "name": "ipython",
    "version": 3
   },
   "file_extension": ".py",
   "mimetype": "text/x-python",
   "name": "python",
   "nbconvert_exporter": "python",
   "pygments_lexer": "ipython3",
   "version": "3.11.5"
  }
 },
 "nbformat": 4,
 "nbformat_minor": 5
}
